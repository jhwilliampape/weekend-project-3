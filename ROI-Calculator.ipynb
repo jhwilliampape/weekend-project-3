{
 "cells": [
  {
   "cell_type": "code",
   "execution_count": 13,
   "metadata": {},
   "outputs": [
    {
     "name": "stdout",
     "output_type": "stream",
     "text": [
      "Hello, and Welcome to ROI Calculator! Start by entering your information below:\n",
      " Total Monthly Income: 1000\n",
      "1000\n",
      "Total Monthly Expenses: 500\n",
      "500\n",
      "6000\n",
      "Total Investment Amount: 40000\n"
     ]
    },
    {
     "ename": "TypeError",
     "evalue": "can only concatenate str (not \"set\") to str",
     "output_type": "error",
     "traceback": [
      "\u001b[1;31m---------------------------------------------------------------------------\u001b[0m",
      "\u001b[1;31mTypeError\u001b[0m                                 Traceback (most recent call last)",
      "\u001b[1;32m<ipython-input-13-645969a4f678>\u001b[0m in \u001b[0;36m<module>\u001b[1;34m\u001b[0m\n\u001b[0;32m     50\u001b[0m \u001b[1;31m#         else:\u001b[0m\u001b[1;33m\u001b[0m\u001b[1;33m\u001b[0m\u001b[1;33m\u001b[0m\u001b[0m\n\u001b[0;32m     51\u001b[0m \u001b[1;31m#             print(\"Invalid Response\")\u001b[0m\u001b[1;33m\u001b[0m\u001b[1;33m\u001b[0m\u001b[1;33m\u001b[0m\u001b[0m\n\u001b[1;32m---> 52\u001b[1;33m \u001b[0mrunROI\u001b[0m\u001b[1;33m(\u001b[0m\u001b[1;33m)\u001b[0m\u001b[1;33m\u001b[0m\u001b[1;33m\u001b[0m\u001b[0m\n\u001b[0m",
      "\u001b[1;32m<ipython-input-13-645969a4f678>\u001b[0m in \u001b[0;36mrunROI\u001b[1;34m()\u001b[0m\n\u001b[0;32m     47\u001b[0m         \u001b[0mans\u001b[0m \u001b[1;33m=\u001b[0m \u001b[0mROI_Calculator\u001b[0m\u001b[1;33m(\u001b[0m\u001b[0mtotal_Inc\u001b[0m\u001b[1;33m,\u001b[0m \u001b[0mtotal_Exp\u001b[0m\u001b[1;33m)\u001b[0m\u001b[1;33m\u001b[0m\u001b[1;33m\u001b[0m\u001b[0m\n\u001b[0;32m     48\u001b[0m         \u001b[0mans\u001b[0m\u001b[1;33m.\u001b[0m\u001b[0mcompileCF\u001b[0m\u001b[1;33m(\u001b[0m\u001b[1;33m)\u001b[0m\u001b[1;33m\u001b[0m\u001b[1;33m\u001b[0m\u001b[0m\n\u001b[1;32m---> 49\u001b[1;33m         \u001b[0mans\u001b[0m\u001b[1;33m.\u001b[0m\u001b[0mcalcROI\u001b[0m\u001b[1;33m(\u001b[0m\u001b[1;33m)\u001b[0m\u001b[1;33m\u001b[0m\u001b[1;33m\u001b[0m\u001b[0m\n\u001b[0m\u001b[0;32m     50\u001b[0m \u001b[1;31m#         else:\u001b[0m\u001b[1;33m\u001b[0m\u001b[1;33m\u001b[0m\u001b[1;33m\u001b[0m\u001b[0m\n\u001b[0;32m     51\u001b[0m \u001b[1;31m#             print(\"Invalid Response\")\u001b[0m\u001b[1;33m\u001b[0m\u001b[1;33m\u001b[0m\u001b[1;33m\u001b[0m\u001b[0m\n",
      "\u001b[1;32m<ipython-input-13-645969a4f678>\u001b[0m in \u001b[0;36mcalcROI\u001b[1;34m(self)\u001b[0m\n\u001b[0;32m     31\u001b[0m         \u001b[0mtotal_Inv\u001b[0m \u001b[1;33m=\u001b[0m \u001b[0mint\u001b[0m\u001b[1;33m(\u001b[0m\u001b[0minput\u001b[0m\u001b[1;33m(\u001b[0m\u001b[1;34m\"Total Investment Amount: \"\u001b[0m\u001b[1;33m)\u001b[0m\u001b[1;33m)\u001b[0m\u001b[1;33m\u001b[0m\u001b[1;33m\u001b[0m\u001b[0m\n\u001b[0;32m     32\u001b[0m         \u001b[0mself\u001b[0m\u001b[1;33m.\u001b[0m\u001b[0mroi\u001b[0m \u001b[1;33m=\u001b[0m \u001b[1;33m(\u001b[0m\u001b[0mself\u001b[0m\u001b[1;33m.\u001b[0m\u001b[0mcashFlow\u001b[0m\u001b[1;33m/\u001b[0m\u001b[0mtotal_Inv\u001b[0m\u001b[1;33m)\u001b[0m\u001b[1;33m\u001b[0m\u001b[1;33m\u001b[0m\u001b[0m\n\u001b[1;32m---> 33\u001b[1;33m         \u001b[0mprint\u001b[0m\u001b[1;33m(\u001b[0m\u001b[1;34m\"Your ROI: \"\u001b[0m \u001b[1;33m+\u001b[0m \u001b[1;33m{\u001b[0m\u001b[0mself\u001b[0m\u001b[1;33m.\u001b[0m\u001b[0mroi\u001b[0m\u001b[1;33m}\u001b[0m\u001b[1;33m)\u001b[0m\u001b[1;33m\u001b[0m\u001b[1;33m\u001b[0m\u001b[0m\n\u001b[0m\u001b[0;32m     34\u001b[0m \u001b[1;33m\u001b[0m\u001b[0m\n\u001b[0;32m     35\u001b[0m \u001b[1;33m\u001b[0m\u001b[0m\n",
      "\u001b[1;31mTypeError\u001b[0m: can only concatenate str (not \"set\") to str"
     ]
    }
   ],
   "source": [
    "class ROI_Calculator():\n",
    "    def __init__(self, income, expenses):\n",
    "        self.total_Inc = income\n",
    "        self.total_Exp = expenses\n",
    "        \n",
    "        \"\"\"\n",
    "        ROI Calculator will require 3 areas of user input:\n",
    "        income: rent in addition to other various on-site ammenities (int)\n",
    "        expenses:  tax + insurance + utilities, etc\n",
    "        cashFlow: income - expenses\n",
    "        roi: annual cashFlow/Total Investment\n",
    "        \"\"\"\n",
    "        \n",
    "#     def compileInc(self):\n",
    "#         self.income(total_Inc)\n",
    "\n",
    "#     def compileExp(self):\n",
    "#         total_Exp = input(\"Total Monthly Expenses: \")\n",
    "#         if (isinstance(int(total_Exp), int)):\n",
    "#             self.expenses(total_Exp)\n",
    "#             print(total_Exp)\n",
    "#         else:\n",
    "#             print(\"Invalid Response\")\n",
    "\n",
    "    def compileCF(self):\n",
    "        annual_CF = (int(self.total_Inc) - int(self.total_Exp)) * 12\n",
    "        self.cashFlow = annual_CF\n",
    "        print(annual_CF)\n",
    "\n",
    "    def calcROI(self):\n",
    "        total_Inv = int(input(\"Total Investment Amount: \"))\n",
    "        self.roi = (self.cashFlow/total_Inv)\n",
    "        print(self.roi)\n",
    "\n",
    "            \n",
    "def runROI():\n",
    "   \n",
    "    while True:\n",
    "        \n",
    "        total_Inc = input(\"Hello, and Welcome to ROI Calculator! Start by entering your information below:\\n Total Monthly Income: \")\n",
    "        #if (isinstance(int(total_Inc), int)):\n",
    "        print(total_Inc)\n",
    "        total_Exp = input(\"Total Monthly Expenses: \")\n",
    "        #if (isinstance(int(total_Exp), int)):\n",
    "        print(total_Exp)\n",
    "            \n",
    "        ans = ROI_Calculator(total_Inc, total_Exp)         \n",
    "        ans.compileCF()\n",
    "        ans.calcROI()\n",
    "#         else:\n",
    "#             print(\"Invalid Response\")\n",
    "runROI()"
   ]
  },
  {
   "cell_type": "code",
   "execution_count": null,
   "metadata": {},
   "outputs": [],
   "source": []
  }
 ],
 "metadata": {
  "kernelspec": {
   "display_name": "Python 3",
   "language": "python",
   "name": "python3"
  },
  "language_info": {
   "codemirror_mode": {
    "name": "ipython",
    "version": 3
   },
   "file_extension": ".py",
   "mimetype": "text/x-python",
   "name": "python",
   "nbconvert_exporter": "python",
   "pygments_lexer": "ipython3",
   "version": "3.8.5"
  }
 },
 "nbformat": 4,
 "nbformat_minor": 4
}
